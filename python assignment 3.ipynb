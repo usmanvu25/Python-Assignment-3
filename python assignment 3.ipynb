{
 "cells": [
  {
   "cell_type": "code",
   "execution_count": 2,
   "metadata": {},
   "outputs": [
    {
     "name": "stdout",
     "output_type": "stream",
     "text": [
      "Twinkle, twinkle, little star,\n",
      "         How I wonder what you are!\n",
      "              Up above the world so high,\n",
      "              Like a Diamond in the sky,\n",
      "Twinkle, twinkle, little star,\n",
      "         How I wonder what you are!\n"
     ]
    }
   ],
   "source": [
    "# 1. write a pythi program to print the followig string in a specific format\n",
    "print(\"Twinkle, twinkle, little star,\");\n",
    "print(\"         How I wonder what you are!\");\n",
    "print(\"              Up above the world so high,\");\n",
    "print(\"              Like a Diamond in the sky,\"); \n",
    "print(\"Twinkle, twinkle, little star,\");\n",
    "print(\"         How I wonder what you are!\");"
   ]
  },
  {
   "cell_type": "code",
   "execution_count": 3,
   "metadata": {},
   "outputs": [
    {
     "name": "stdout",
     "output_type": "stream",
     "text": [
      "My Python Version is \n",
      "3.8.5 (default, Sep  3 2020, 21:29:08) [MSC v.1916 64 bit (AMD64)]\n"
     ]
    }
   ],
   "source": [
    "# 2. write a python program to get the python version you are using\n",
    "import sys;\n",
    "print(\"My Python Version is \")\n",
    "print(sys.version)"
   ]
  },
  {
   "cell_type": "code",
   "execution_count": 4,
   "metadata": {},
   "outputs": [
    {
     "name": "stdout",
     "output_type": "stream",
     "text": [
      "Right Now Date & Time = 2021-10-24 01:08:14.206915\n"
     ]
    }
   ],
   "source": [
    "# 3. write a python program to display the current date and time.\n",
    "from datetime import datetime;\n",
    "now = datetime.now()\n",
    "print(\"Right Now Date & Time =\", now)"
   ]
  },
  {
   "cell_type": "code",
   "execution_count": 6,
   "metadata": {},
   "outputs": [
    {
     "name": "stdout",
     "output_type": "stream",
     "text": [
      "Radius of Circle 45\n",
      "6361.725123519331\n"
     ]
    }
   ],
   "source": [
    "# 4. write a python program which accepts the radiusof a circle fro the user and compute the area.\n",
    "from math import pi;\n",
    "radius = float(input(\"Radius of Circle \"));\n",
    "print (str(pi * radius**2));\n"
   ]
  },
  {
   "cell_type": "code",
   "execution_count": 7,
   "metadata": {},
   "outputs": [
    {
     "name": "stdout",
     "output_type": "stream",
     "text": [
      "your First Name : usman\n",
      "your Last Name : malik\n",
      "malik usman\n"
     ]
    }
   ],
   "source": [
    "# 5. write a python program which accepts the user's first name and last name and print them reverse order with a space between them\n",
    "firstName = input(\"your First Name : \")\n",
    "lastName = input(\"your Last Name : \")\n",
    "print (lastName + \" \" + firstName)"
   ]
  },
  {
   "cell_type": "code",
   "execution_count": 8,
   "metadata": {},
   "outputs": [
    {
     "name": "stdout",
     "output_type": "stream",
     "text": [
      "First Input = 87\n",
      "second input = 98\n",
      "Addition of first and second input =  185\n"
     ]
    }
   ],
   "source": [
    "# 6. write a program which takes two inputs from user and print them addition\n",
    "first = int(input(\"First Input = \" ));\n",
    "second = int(input(\"second input = \"));\n",
    "addition = first+second;\n",
    "print (\"Addition of first and second input = \",addition);"
   ]
  },
  {
   "cell_type": "code",
   "execution_count": 10,
   "metadata": {},
   "outputs": [
    {
     "name": "stdout",
     "output_type": "stream",
     "text": [
      "Enter the marks of five subjects::\n",
      "98\n",
      "7\n",
      "65\n",
      "45\n",
      "67\n",
      "\n",
      "The Total marks is:   \t 282 / 500.00\n",
      "\n",
      "The Average marks is: \t 56.4\n",
      "\n",
      "The Percentage is:    \t 56.39999999999999 %\n",
      "\n",
      "The Grade is:         \t C\n"
     ]
    }
   ],
   "source": [
    "# 7. Write a program which takes 5 inputs fromuser for different subject's  marks total it and generate mark sheet using grades\n",
    "print(\"Enter the marks of five subjects::\")\n",
    "\n",
    "subject_1 = int (input ())\n",
    "subject_2 = int (input ())\n",
    "subject_3 = int (input ())\n",
    "subject_4 = int (input ())\n",
    "subject_5 = int (input ())\n",
    "\n",
    "\n",
    "total = subject_1 + subject_2 + subject_3 + subject_4 + subject_5\n",
    "average = total / 5.0\n",
    "percentage = (total / 500) * 100\n",
    "\n",
    "if average >= 90:\n",
    "    grade = 'A+'\n",
    "elif average >= 80 and average < 90:\n",
    "    grade = 'A'\n",
    "elif average >= 70 and average < 80:\n",
    "    grade = 'B+'\n",
    "elif average >= 60 and average < 70:\n",
    "    grade = 'B'\n",
    "elif average >= 50 and average < 60:\n",
    "    grade = 'C'\n",
    "else:\n",
    "    grade = 'E'\n",
    "\n",
    "\n",
    "print (\"\\nThe Total marks is:   \\t\", total, \"/ 500.00\")\n",
    "print (\"\\nThe Average marks is: \\t\", average)\n",
    "print (\"\\nThe Percentage is:    \\t\", percentage, \"%\")\n",
    "print (\"\\nThe Grade is:         \\t\", grade)"
   ]
  },
  {
   "cell_type": "code",
   "execution_count": 11,
   "metadata": {},
   "outputs": [
    {
     "name": "stdout",
     "output_type": "stream",
     "text": [
      " Enter Your Number: 98\n",
      "This Number is an Even Number: 98\n"
     ]
    }
   ],
   "source": [
    "# 8. Write a program which take input from user and identify that the given number is even or odd\n",
    "\n",
    "num = int(input(\"Enter Your Number: \"));\n",
    "mod = num % 2;\n",
    "if mod > 0:\n",
    "    print(\"This Number is an Odd Number \" + str(num));\n",
    "else:\n",
    "    print (\"This Number is an Even Number: \" + str(num));"
   ]
  },
  {
   "cell_type": "code",
   "execution_count": 12,
   "metadata": {},
   "outputs": [
    {
     "name": "stdout",
     "output_type": "stream",
     "text": [
      "11\n"
     ]
    }
   ],
   "source": [
    "# 9 . write a program which print the length of list\n",
    "a = [1,1,2,3,5,8,13,21,34,55,89];\n",
    "print(len(a));"
   ]
  },
  {
   "cell_type": "code",
   "execution_count": 13,
   "metadata": {},
   "outputs": [
    {
     "name": "stdout",
     "output_type": "stream",
     "text": [
      "232\n"
     ]
    }
   ],
   "source": [
    "# 10. write a python program to sum all the numric items in a list\n",
    "a = [1,1,2,3,5,8,13,21,34,55,89];\n",
    "listsum = sum(a);\n",
    "print(listsum);"
   ]
  },
  {
   "cell_type": "code",
   "execution_count": 14,
   "metadata": {},
   "outputs": [
    {
     "name": "stdout",
     "output_type": "stream",
     "text": [
      "The largest Number Of list Is =  89\n"
     ]
    }
   ],
   "source": [
    "# 11. write a python program to get largest number from a numric list\n",
    "a = [1,1,2,3,5,8,13,21,34,55,89];\n",
    "MaxNumber = max(a);\n",
    "print(\"The largest Number Of list Is = \", MaxNumber) "
   ]
  },
  {
   "cell_type": "code",
   "execution_count": 1,
   "metadata": {},
   "outputs": [
    {
     "name": "stdout",
     "output_type": "stream",
     "text": [
      "1\n",
      "1\n",
      "2\n",
      "3\n"
     ]
    }
   ],
   "source": [
    "# 12. Write a program that prints out all the elements of the list that are less than 5.\n",
    "a = [1,1,2,3,5,8,13,21,34,55,89];\n",
    "for i in a:\n",
    "    if i < 5:\n",
    "        print(i)"
   ]
  },
  {
   "cell_type": "code",
   "execution_count": null,
   "metadata": {},
   "outputs": [],
   "source": []
  }
 ],
 "metadata": {
  "kernelspec": {
   "display_name": "Python 3",
   "language": "python",
   "name": "python3"
  },
  "language_info": {
   "codemirror_mode": {
    "name": "ipython",
    "version": 3
   },
   "file_extension": ".py",
   "mimetype": "text/x-python",
   "name": "python",
   "nbconvert_exporter": "python",
   "pygments_lexer": "ipython3",
   "version": "3.8.5"
  }
 },
 "nbformat": 4,
 "nbformat_minor": 4
}
